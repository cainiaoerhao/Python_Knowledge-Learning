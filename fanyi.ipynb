{
 "cells": [
  {
   "cell_type": "code",
   "execution_count": 1,
   "id": "019af07b-7ee3-475a-aa8d-0a9a2d68a803",
   "metadata": {},
   "outputs": [
    {
     "name": "stdout",
     "output_type": "stream",
     "text": [
      "100\n",
      "1000.0\n",
      "runoob\n"
     ]
    }
   ],
   "source": [
    "\"\"\"\n",
    "定义变量counter赋值(int)100\n",
    "定义变量miles赋值(float)1000.0\n",
    "定义变量namef赋值(str)\"runoob\"\n",
    "函数print打印输出变量counter,结果是100\n",
    "函数print打印输出变量miles,结果是1000.0\n",
    "函数print打印输出变量name,结果是runoob\n",
    "\"\"\"\n",
    "\n",
    "counter = 100 #int\n",
    "miles = 1000.0 #float\n",
    "name = \"runoob\" #str\n",
    "\n",
    "print(counter) #100\n",
    "print(miles) #1000.0\n",
    "print(name) # runoob"
   ]
  },
  {
   "cell_type": "code",
   "execution_count": 2,
   "id": "39ee7d43-1436-4392-a821-4293820eb082",
   "metadata": {},
   "outputs": [
    {
     "name": "stdout",
     "output_type": "stream",
     "text": [
      "<class 'int'>\n",
      "<class 'float'>\n",
      "<class 'str'>\n",
      "<class 'bool'>\n"
     ]
    }
   ],
   "source": [
    "\"\"\"\n",
    "定义变量x,赋值(int)10\n",
    "定义变量y,赋值(float)3.14\n",
    "定义变量name，赋值(str)\"Alice\"\n",
    "定义变量is_active,赋值(bool)True\n",
    "\n",
    "定义三个变量a,b,c,并且按照顺序赋值1,2,\"three\"\n",
    "\n",
    "通过type函数判断变量x的类型,通过print函数对结果进行打印输出为int\n",
    "通过type函数判断变量y的类型,通过print函数对结果进行打印输出为float\n",
    "通过type函数判断变量name的类型,通过print函数对结果进行打印输出为str\n",
    "通过type函数判断变量is_active的类型,通过print函数对结果进行打印输出为bool\n",
    "\"\"\"\n",
    "\n",
    "x = 10 #int\n",
    "y = 3.14 #float\n",
    "name = \"Alice\" #str\n",
    "is_active = True # bool\n",
    "\n",
    "a, b, c = 1, 2, \"three\" #多变量赋值\n",
    "\n",
    "print(type(x)) #int\n",
    "print(type(y)) #float\n",
    "print(type(name)) #str\n",
    "print(type(is_active)) #bool"
   ]
  },
  {
   "cell_type": "code",
   "execution_count": 3,
   "id": "d8cd3bf3-fac0-41d7-ae49-7a5d7250033a",
   "metadata": {},
   "outputs": [
    {
     "data": {
      "text/plain": [
       "True"
      ]
     },
     "execution_count": 3,
     "metadata": {},
     "output_type": "execute_result"
    }
   ],
   "source": [
    "\"\"\"\n",
    "定义变量a,赋值111\n",
    "通过isinstance来判断变量a,是否是整型int\n",
    "\"\"\"\n",
    "\n",
    "a = 111\n",
    "isinstance(a, int)"
   ]
  },
  {
   "cell_type": "code",
   "execution_count": 4,
   "id": "6943dc82-8cd4-4a1b-afb2-0e476bb5ff3b",
   "metadata": {},
   "outputs": [
    {
     "ename": "SyntaxError",
     "evalue": "incomplete input (969763094.py, line 1)",
     "output_type": "error",
     "traceback": [
      "\u001b[1;36m  Cell \u001b[1;32mIn[4], line 1\u001b[1;36m\u001b[0m\n\u001b[1;33m    \"\"\"\u001b[0m\n\u001b[1;37m    ^\u001b[0m\n\u001b[1;31mSyntaxError\u001b[0m\u001b[1;31m:\u001b[0m incomplete input\n"
     ]
    }
   ],
   "source": [
    "\"\"\"\n",
    "定义str变量,赋值'Runoob'(str)\n",
    "\n",
    "通过print打印输出str,结果是Runoob.\n",
    "通过print打印输出str切片[0:-1],结果是Runoo.(-1由于不包含所以不会打印)\n",
    "通过print打印输出str[0],结果是R.\n",
    "通过print打印输出str[2:5],结果是noo.\n",
    "通过print打印输出str[2:],结果是noob.\n",
    "通过print打印输出str * 2,结果是RunoobRunoob\n",
    "通过print打印输出str + \"TEST\",结果是RunoobTEST\n",
    "\"\"\"\n",
    "\n",
    "str = 'Runoob'\n",
    "\n",
    "print(str) #Runoob\n",
    "print(str[0:-1]) #Runoo\n",
    "print(str[0]) #R\n",
    "print(str[2:5]) #noo\n",
    "print(str[2:]) #noob\n",
    "print(str["
   ]
  },
  {
   "cell_type": "code",
   "execution_count": null,
   "id": "7a3810f6-86c2-41fa-889e-6c70fecc4f4b",
   "metadata": {},
   "outputs": [],
   "source": []
  }
 ],
 "metadata": {
  "kernelspec": {
   "display_name": "Python 3 (ipykernel)",
   "language": "python",
   "name": "python3"
  },
  "language_info": {
   "codemirror_mode": {
    "name": "ipython",
    "version": 3
   },
   "file_extension": ".py",
   "mimetype": "text/x-python",
   "name": "python",
   "nbconvert_exporter": "python",
   "pygments_lexer": "ipython3",
   "version": "3.12.7"
  }
 },
 "nbformat": 4,
 "nbformat_minor": 5
}
